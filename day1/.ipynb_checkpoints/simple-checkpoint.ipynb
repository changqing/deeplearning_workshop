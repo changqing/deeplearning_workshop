{
 "cells": [
  {
   "cell_type": "code",
   "execution_count": 1,
   "metadata": {
    "collapsed": true
   },
   "outputs": [],
   "source": [
    "import tensorflow as tf\n",
    "\n",
    "# You can create constants in TF to\n",
    "# hold specific values\n",
    "a = tf.constant(1)\n",
    "b = tf.constant(2)\n",
    "\n",
    "# Of course you can add, multiply,\n",
    "# and compute on these as you like\n",
    "c = a + b\n",
    "d = a * b\n",
    "\n",
    "# TF numbers are stored in \"tensors\",\n",
    "# a fancy term for multidimensional arrays\n",
    "# If you pass TF a Python list, it can convert it\n",
    "V1 = tf.constant([1., 2.])   # Vector, 1-dimensional\n",
    "V2 = tf.constant([3., 4.])   # Vector, 1-dimensional\n",
    "M = tf.constant([[1., 2.]])             # Matrix, 2d\n",
    "N = tf.constant([[1., 2.],[3.,4.]])     # Matrix, 2d\n",
    "K = tf.constant([[[1., 2.],[3.,4.]]])   # Tensor, 3d+\n",
    "\n",
    "# You can also compute on tensors\n",
    "# like you did scalars, but be careful of shape\n",
    "V3 = V1 + V2\n",
    "\n",
    "# Operations are element-wise by default\n",
    "M2 = M * M\n",
    "\n",
    "# True matrix multiplication requires a special call\n",
    "NN = tf.matmul(N,N)\n",
    "\n",
    "# The above code only defines a TF \"graph\".\n",
    "# Nothing has been computed yet\n",
    "# For that, you first need to create a TF \"session\"\n",
    "sess = tf.Session()"
   ]
  },
  {
   "cell_type": "code",
   "execution_count": 3,
   "metadata": {
    "collapsed": false
   },
   "outputs": [
    {
     "name": "stdout",
     "output_type": "stream",
     "text": [
      "NN is: [[  7.  10.]\n",
      " [ 15.  22.]]\n",
      "M2 is: [[ 1.  4.]]\n",
      "W is:\n",
      "0\n",
      "W after adding a:\n",
      "1\n",
      "W after adding a again:\n",
      "2\n",
      "E as defined:\n",
      "4\n",
      "E and d:\n",
      "[4, 2]\n",
      "E with custom d=4:\n",
      "6\n"
     ]
    }
   ],
   "source": [
    "# Note the parallelism information TF\n",
    "# reports to you when starting a session\n",
    "\n",
    "# Now you can run specific nodes of your graph,\n",
    "# i.e. the variables you've named\n",
    "output = sess.run(NN)\n",
    "print \"NN is:\", output\n",
    "\n",
    "# Remember to close your session\n",
    "# when you're done using it\n",
    "sess.close()\n",
    "\n",
    "# Often, we work interactively,\n",
    "# it's convenient to use a simplified session\n",
    "sess = tf.InteractiveSession()\n",
    "\n",
    "# Now we can compute any node\n",
    "print \"M2 is:\", M2.eval()\n",
    "\n",
    "# TF \"variables\" can change value,\n",
    "# useful for updating model weights\n",
    "W = tf.Variable(0, name=\"weight\")\n",
    "\n",
    "# But variables must be initialized by TF before use\n",
    "init_op = tf.initialize_all_variables()\n",
    "sess.run(init_op)\n",
    "\n",
    "print \"W is:\", W.eval()\n",
    "\n",
    "W += a\n",
    "print \"W after adding a:\", W.eval()\n",
    "\n",
    "W += a\n",
    "print \"W after adding a again:\", W.eval()\n",
    "\n",
    "# You can return or supply arbitrary nodes,\n",
    "# i.e. check an intermediate value or\n",
    "# sub your value in the middle of a computation\n",
    "\n",
    "E = d + b # 1*2 + 2 = 4\n",
    "\n",
    "print \"E as defined:\", E.eval()\n",
    "\n",
    "# Let's see what d was at the same time\n",
    "print \"E and d:\", sess.run([E,d])\n",
    "\n",
    "# Use a custom d by specifying a dictionary\n",
    "print \"E with custom d=4:\", sess.run(E, feed_dict = {d:4.})"
   ]
  },
  {
   "cell_type": "code",
   "execution_count": null,
   "metadata": {
    "collapsed": true
   },
   "outputs": [],
   "source": []
  }
 ],
 "metadata": {
  "kernelspec": {
   "display_name": "Python 2",
   "language": "python",
   "name": "python2"
  },
  "language_info": {
   "codemirror_mode": {
    "name": "ipython",
    "version": 2
   },
   "file_extension": ".py",
   "mimetype": "text/x-python",
   "name": "python",
   "nbconvert_exporter": "python",
   "pygments_lexer": "ipython2",
   "version": "2.7.12"
  }
 },
 "nbformat": 4,
 "nbformat_minor": 1
}
