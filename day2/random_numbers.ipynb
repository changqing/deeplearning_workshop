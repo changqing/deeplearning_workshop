{
 "cells": [
  {
   "cell_type": "code",
   "execution_count": 1,
   "metadata": {
    "collapsed": false
   },
   "outputs": [
    {
     "data": {
      "image/png": "[encoded data removed]",
      "text/plain": [
       "<matplotlib.figure.Figure at 0x7f8f6d1eb590>"
      ]
     },
     "metadata": {},
     "output_type": "display_data"
    }
   ],
   "source": [
    "import tensorflow as tf\n",
    "import matplotlib.pyplot as plt\n",
    "\n",
    "# Create a tensor of shape [100] consisting of random normal values, with mean\n",
    "# 0 and standard deviation 2.\n",
    "norm = tf.random_normal([100], mean=0, stddev=2)\n",
    "with tf.Session() as session:\n",
    "    plt.hist(norm.eval(), normed=True)\n",
    "    plt.show()"
   ]
  },
  {
   "cell_type": "code",
   "execution_count": 2,
   "metadata": {
    "collapsed": false
   },
   "outputs": [
    {
     "name": "stdout",
     "output_type": "stream",
     "text": [
      "[ 0.23185515  0.52958488  0.03032243  0.61553264  0.35055602  0.50574613\n",
      "  0.64021683  0.24413216  0.37515128  0.6503197   0.60284662  0.83561385\n",
      "  0.90791655  0.19468987  0.2140168   0.07902956  0.41832995  0.59192514\n",
      "  0.29838562  0.2059468   0.42111444  0.4717288   0.2635088   0.45362806\n",
      "  0.09038913  0.0511713   0.96570468  0.40579605  0.54663014  0.5874927\n",
      "  0.643749    0.54796767  0.97518599  0.3171066   0.21556818  0.35871243\n",
      "  0.36819613  0.24755096  0.22360015  0.25036752  0.18834436  0.71939576\n",
      "  0.88252628  0.99555385  0.17795718  0.42065358  0.10791278  0.73233628\n",
      "  0.0050844   0.22893584  0.25636125  0.27270591  0.64524305  0.24233937\n",
      "  0.88450468  0.66677606  0.23414576  0.976596    0.47915232  0.55707991\n",
      "  0.13250184  0.0371958   0.96617246  0.93735623  0.93300211  0.21746957\n",
      "  0.54585207  0.50878799  0.15588593  0.96809733  0.4415158   0.9741534\n",
      "  0.01987243  0.15302444  0.64173698  0.4483161   0.02449     0.70573699\n",
      "  0.77301133  0.97315264  0.83769631  0.23235214  0.49914539  0.51761544\n",
      "  0.30726767  0.43929946  0.07069981  0.58542204  0.95145679  0.78331327\n",
      "  0.26387346  0.59748781  0.65187573  0.84915245  0.09237337  0.9760704\n",
      "  0.8938818   0.55717516  0.75403905  0.39152968]\n"
     ]
    },
    {
     "data": {
      "image/png": "[encoded data removed]",
      "text/plain": [
       "<matplotlib.figure.Figure at 0x7f8f6fd11c50>"
      ]
     },
     "metadata": {},
     "output_type": "display_data"
    }
   ],
   "source": [
    "uniform = tf.random_uniform([100], minval=0, maxval=1, dtype=tf.float32)\n",
    "with tf.Session() as session:\n",
    "    print(uniform.eval())\n",
    "    plt.hist(uniform.eval(), normed=True)\n",
    "    plt.show()"
   ]
  },
  {
   "cell_type": "code",
   "execution_count": 3,
   "metadata": {
    "collapsed": false
   },
   "outputs": [
    {
     "name": "stdout",
     "output_type": "stream",
     "text": [
      "First Run\n",
      "uniform with (seed = 1) = [ 0.23903739]\n",
      "uniform with (seed = 1) = [ 0.22267115]\n",
      "uniform without seed = [ 0.22673273]\n",
      "uniform without seed = [ 0.4976809]\n",
      "Second Run\n",
      "uniform with (seed = 1) = [ 0.23903739]\n",
      "uniform with (seed = 1) = [ 0.22267115]\n",
      "uniform without seed = [ 0.67879522]\n",
      "uniform without seed = [ 0.36179137]\n"
     ]
    }
   ],
   "source": [
    "uniform_with_seed = tf.random_uniform([1], seed=1)\n",
    "uniform_without_seed = tf.random_uniform([1])\n",
    "\n",
    "# Repeatedly running this block with the same graph will generate the same\n",
    "# sequence of values for 'a', but different sequences of values for 'b'.\n",
    "print(\"First Run\")\n",
    "with tf.Session() as first_session:\n",
    "    print(\"uniform with (seed = 1) = {}\".format(first_session.run(uniform_with_seed)))\n",
    "    print(\"uniform with (seed = 1) = {}\".format(first_session.run(uniform_with_seed)))\n",
    "    print(\"uniform without seed = {}\".format(first_session.run(uniform_without_seed)))\n",
    "    print(\"uniform without seed = {}\".format(first_session.run(uniform_without_seed)))\n",
    "\n",
    "print(\"Second Run\")\n",
    "with tf.Session() as second_session:\n",
    "    print(\"uniform with (seed = 1) = {}\" \\\n",
    "          .format(second_session.run(uniform_with_seed)))\n",
    "    print(\"uniform with (seed = 1) = {}\" \\\n",
    "          .format(second_session.run(uniform_with_seed)))\n",
    "    print(\"uniform without seed = {}\" \\\n",
    "          .format(second_session.run(uniform_without_seed)))\n",
    "    print(\"uniform without seed = {}\" \\\n",
    "          .format(second_session.run(uniform_without_seed)))\n"
   ]
  },
  {
   "cell_type": "code",
   "execution_count": null,
   "metadata": {
    "collapsed": true
   },
   "outputs": [],
   "source": []
  }
 ],
 "metadata": {
  "kernelspec": {
   "display_name": "Python 2",
   "language": "python",
   "name": "python2"
  },
  "language_info": {
   "codemirror_mode": {
    "name": "ipython",
    "version": 2
   },
   "file_extension": ".py",
   "mimetype": "text/x-python",
   "name": "python",
   "nbconvert_exporter": "python",
   "pygments_lexer": "ipython2",
   "version": "2.7.12"
  }
 },
 "nbformat": 4,
 "nbformat_minor": 1
}
