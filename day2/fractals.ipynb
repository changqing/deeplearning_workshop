{
 "cells": [
  {
   "cell_type": "code",
   "execution_count": null,
   "metadata": {
    "collapsed": true
   },
   "outputs": [],
   "source": [
    "# import libraries for simulation\n",
    "import tensorflow as tf\n",
    "import numpy as np\n",
    "import matplotlib.pyplot as plt\n",
    "     \n",
    "#MANDELBROT SET\n",
    "Y, X = np.mgrid[-1.3:1.3:0.005, -2:1:0.005]\n",
    "\n",
    "#JULIA SET\n",
    "#Y, X = np.mgrid[-2:2:0.005, -2:2:0.005]\n",
    "\n",
    "#Definiamo il punto corrente \n",
    "Z = X+1j*Y\n",
    "c = tf.constant(Z.astype(\"complex64\"))\n",
    "\n",
    "zs = tf.Variable(c)\n",
    "ns = tf.Variable(tf.zeros_like(c, \"float32\"))\n",
    "\n",
    "#c = complex(0.0,0.75)\n",
    "#c = complex(-1.5,-1.5)\n",
    "sess = tf.InteractiveSession()\n",
    "tf.initialize_all_variables().run()\n",
    "\n",
    "# Compute the new values of z: z^2 + x\n",
    "zs_ = zs*zs + c\n",
    "#zs_ = zs*zs - c\n",
    "\n",
    "# Have we diverged with this new value?\n",
    "not_diverged = tf.complex_abs(zs_) < 4\n",
    "\n",
    "step = tf.group(\n",
    "  zs.assign(zs_),\n",
    "  ns.assign_add(tf.cast(not_diverged, \"float32\"))\n",
    "  )\n",
    "\n",
    "for i in range(200): step.run()\n",
    "\n",
    "plt.imshow(ns.eval())\n",
    "plt.show()"
   ]
  }
 ],
 "metadata": {
  "kernelspec": {
   "display_name": "Python 2",
   "language": "python",
   "name": "python2"
  },
  "language_info": {
   "codemirror_mode": {
    "name": "ipython",
    "version": 2
   },
   "file_extension": ".py",
   "mimetype": "text/x-python",
   "name": "python",
   "nbconvert_exporter": "python",
   "pygments_lexer": "ipython2",
   "version": "2.7.12"
  }
 },
 "nbformat": 4,
 "nbformat_minor": 1
}
