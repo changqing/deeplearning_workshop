{
 "cells": [
  {
   "cell_type": "code",
   "execution_count": 2,
   "metadata": {
    "collapsed": false
   },
   "outputs": [
    {
     "name": "stdout",
     "output_type": "stream",
     "text": [
      "Succesfully downloaded train-images-idx3-ubyte.gz 9912422 bytes.\n",
      "Extracting /tmp/data/train-images-idx3-ubyte.gz\n"
     ]
    },
    {
     "name": "stderr",
     "output_type": "stream",
     "text": [
      "/usr/lib/python2.7/gzip.py:275: VisibleDeprecationWarning: converting an array with ndim > 0 to an index will result in an error in the future\n",
      "  chunk = self.extrabuf[offset: offset + size]\n",
      "input_data.py:35: VisibleDeprecationWarning: converting an array with ndim > 0 to an index will result in an error in the future\n",
      "  data = data.reshape(num_images, rows, cols, 1)\n"
     ]
    },
    {
     "name": "stdout",
     "output_type": "stream",
     "text": [
      "Succesfully downloaded train-labels-idx1-ubyte.gz 28881 bytes.\n",
      "Extracting /tmp/data/train-labels-idx1-ubyte.gz\n",
      "Succesfully downloaded t10k-images-idx3-ubyte.gz 1648877 bytes.\n",
      "Extracting /tmp/data/t10k-images-idx3-ubyte.gz\n",
      "Succesfully downloaded t10k-labels-idx1-ubyte.gz 4542 bytes.\n",
      "Extracting /tmp/data/t10k-labels-idx1-ubyte.gz\n",
      "Test N 0 Predicted Class:  7 True Class:  7\n",
      "Test N 1 Predicted Class:  2 True Class:  2\n",
      "Test N 2 Predicted Class:  1 True Class:  1\n",
      "Test N 3 Predicted Class:  0 True Class:  0\n",
      "Test N 4 Predicted Class:  4 True Class:  4\n",
      "Test N 5 Predicted Class:  1 True Class:  1\n",
      "Test N 6 Predicted Class:  4 True Class:  4\n",
      "Test N 7 Predicted Class:  9 True Class:  9\n",
      "Test N 8 Predicted Class:  6 True Class:  5\n",
      "Test N 9 Predicted Class:  9 True Class:  9\n",
      "Result =  0.9\n"
     ]
    }
   ],
   "source": [
    "import numpy as np\n",
    "import tensorflow as tf\n",
    "import input_data\n",
    "\n",
    "#Build the Training Set\n",
    "\n",
    "mnist = input_data.read_data_sets(\"/tmp/data/\", one_hot=True)\n",
    "\n",
    "train_pixels,train_list_values = mnist.train.next_batch(100) \n",
    "test_pixels,test_list_of_values  = mnist.test.next_batch(10) \n",
    "\n",
    "\n",
    "train_pixel_tensor = tf.placeholder\\\n",
    "                     (\"float\", [None, 784])\n",
    "test_pixel_tensor = tf.placeholder\\\n",
    "                     (\"float\", [784])\n",
    "\n",
    "#Cost Function and distance optimization\n",
    "\n",
    "distance = tf.reduce_sum\\\n",
    "           (tf.abs\\\n",
    "            (tf.add(train_pixel_tensor, \\\n",
    "                    tf.neg(test_pixel_tensor))), \\\n",
    "            reduction_indices=1)\n",
    "\n",
    "pred = tf.arg_min(distance, 0)\n",
    "\n",
    "# Testing and algorithm evaluation\n",
    "\n",
    "accuracy = 0.\n",
    "init = tf.initialize_all_variables()\n",
    "with tf.Session() as sess:\n",
    "    sess.run(init)\n",
    "    for i in range(len(test_list_of_values)):\n",
    "        nn_index = sess.run(pred,\\\n",
    "\t\tfeed_dict={train_pixel_tensor:train_pixels,\\\n",
    "\t\ttest_pixel_tensor:test_pixels[i,:]})\n",
    "        print \"Test N\", i,\"Predicted Class: \", \\\n",
    "\t\tnp.argmax(train_list_values[nn_index]),\\\n",
    "\t\t\"True Class: \", np.argmax(test_list_of_values[i])\n",
    "        if np.argmax(train_list_values[nn_index])\\\n",
    "\t\t== np.argmax(test_list_of_values[i]):\n",
    "            accuracy += 1./len(test_pixels)\n",
    "    print \"Result = \", accuracy\n"
   ]
  },
  {
   "cell_type": "code",
   "execution_count": null,
   "metadata": {
    "collapsed": true
   },
   "outputs": [],
   "source": []
  }
 ],
 "metadata": {
  "kernelspec": {
   "display_name": "Python 2",
   "language": "python",
   "name": "python2"
  },
  "language_info": {
   "codemirror_mode": {
    "name": "ipython",
    "version": 2
   },
   "file_extension": ".py",
   "mimetype": "text/x-python",
   "name": "python",
   "nbconvert_exporter": "python",
   "pygments_lexer": "ipython2",
   "version": "2.7.12"
  }
 },
 "nbformat": 4,
 "nbformat_minor": 1
}
